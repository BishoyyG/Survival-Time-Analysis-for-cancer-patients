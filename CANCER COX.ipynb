{
 "cells": [
  {
   "cell_type": "code",
   "execution_count": 1,
   "id": "35a7571d",
   "metadata": {},
   "outputs": [],
   "source": [
    "# Importing necessary libraries\n",
    "import pandas as pd\n",
    "from lifelines import CoxPHFitter\n",
    "import matplotlib.pyplot as plt\n",
    "import numpy as np\n"
   ]
  },
  {
   "cell_type": "code",
   "execution_count": 2,
   "id": "1e251db5",
   "metadata": {},
   "outputs": [
    {
     "data": {
      "text/html": [
       "<div>\n",
       "<style scoped>\n",
       "    .dataframe tbody tr th:only-of-type {\n",
       "        vertical-align: middle;\n",
       "    }\n",
       "\n",
       "    .dataframe tbody tr th {\n",
       "        vertical-align: top;\n",
       "    }\n",
       "\n",
       "    .dataframe thead th {\n",
       "        text-align: right;\n",
       "    }\n",
       "</style>\n",
       "<table border=\"1\" class=\"dataframe\">\n",
       "  <thead>\n",
       "    <tr style=\"text-align: right;\">\n",
       "      <th></th>\n",
       "      <th>Age</th>\n",
       "      <th>Tumor_Size</th>\n",
       "      <th>Tumor_Grade</th>\n",
       "      <th>Hormone_Receptor_Status</th>\n",
       "      <th>Survival_Time</th>\n",
       "      <th>Event</th>\n",
       "    </tr>\n",
       "  </thead>\n",
       "  <tbody>\n",
       "    <tr>\n",
       "      <th>0</th>\n",
       "      <td>45</td>\n",
       "      <td>2.3</td>\n",
       "      <td>2</td>\n",
       "      <td>Positive</td>\n",
       "      <td>7</td>\n",
       "      <td>1</td>\n",
       "    </tr>\n",
       "    <tr>\n",
       "      <th>1</th>\n",
       "      <td>60</td>\n",
       "      <td>4.1</td>\n",
       "      <td>3</td>\n",
       "      <td>Negative</td>\n",
       "      <td>4</td>\n",
       "      <td>1</td>\n",
       "    </tr>\n",
       "    <tr>\n",
       "      <th>2</th>\n",
       "      <td>55</td>\n",
       "      <td>3.5</td>\n",
       "      <td>2</td>\n",
       "      <td>Positive</td>\n",
       "      <td>10</td>\n",
       "      <td>0</td>\n",
       "    </tr>\n",
       "    <tr>\n",
       "      <th>3</th>\n",
       "      <td>70</td>\n",
       "      <td>5.2</td>\n",
       "      <td>3</td>\n",
       "      <td>Positive</td>\n",
       "      <td>2</td>\n",
       "      <td>1</td>\n",
       "    </tr>\n",
       "    <tr>\n",
       "      <th>4</th>\n",
       "      <td>65</td>\n",
       "      <td>3.9</td>\n",
       "      <td>1</td>\n",
       "      <td>Negative</td>\n",
       "      <td>6</td>\n",
       "      <td>0</td>\n",
       "    </tr>\n",
       "  </tbody>\n",
       "</table>\n",
       "</div>"
      ],
      "text/plain": [
       "   Age  Tumor_Size  Tumor_Grade Hormone_Receptor_Status  Survival_Time  Event\n",
       "0   45         2.3            2                Positive              7      1\n",
       "1   60         4.1            3                Negative              4      1\n",
       "2   55         3.5            2                Positive             10      0\n",
       "3   70         5.2            3                Positive              2      1\n",
       "4   65         3.9            1                Negative              6      0"
      ]
     },
     "execution_count": 2,
     "metadata": {},
     "output_type": "execute_result"
    }
   ],
   "source": [
    "# Example dataset\n",
    "data = pd.DataFrame({\n",
    "    'Age': [45, 60, 55, 70, 65],\n",
    "    'Tumor_Size': [2.3, 4.1, 3.5, 5.2, 3.9],\n",
    "    'Tumor_Grade': [2, 3, 2, 3, 1],\n",
    "    'Hormone_Receptor_Status': ['Positive', 'Negative', 'Positive', 'Positive', 'Negative'],\n",
    "    'Survival_Time': [7, 4, 10, 2, 6],\n",
    "    'Event': [1, 1, 0, 1, 0]  # 1 for death, 0 for censored\n",
    "})\n",
    "data"
   ]
  },
  {
   "cell_type": "code",
   "execution_count": 3,
   "id": "51330592",
   "metadata": {},
   "outputs": [
    {
     "name": "stdout",
     "output_type": "stream",
     "text": [
      "Predicted Survival Probability over Time:\n",
      "             0\n",
      "2.0   0.867426\n",
      "4.0   0.708673\n",
      "6.0   0.708673\n",
      "7.0   0.460308\n",
      "10.0  0.460308\n"
     ]
    },
    {
     "name": "stderr",
     "output_type": "stream",
     "text": [
      "D:\\Programs\\anaconda\\lib\\site-packages\\lifelines\\fitters\\coxph_fitter.py:1614: ConvergenceWarning: Newton-Raphson failed to converge sufficiently. Please see the following tips in the lifelines documentation: https://lifelines.readthedocs.io/en/latest/Examples.html#problems-with-convergence-in-the-cox-proportional-hazard-model\n",
      "  warnings.warn(\n"
     ]
    }
   ],
   "source": [
    "\n",
    "# Fitting the Cox Proportional Hazards Model\n",
    "cph = CoxPHFitter()\n",
    "cph.fit(data, duration_col='Survival_Time', event_col='Event', formula='Age + Tumor_Size + Tumor_Grade + Hormone_Receptor_Status')\n",
    "\n",
    "# New patient's characteristics\n",
    "new_patient = pd.DataFrame({\n",
    "    'Age': [50],\n",
    "    'Tumor_Size': [3.0],\n",
    "    'Tumor_Grade': [2],\n",
    "    'Hormone_Receptor_Status': ['Positive']\n",
    "})\n",
    "\n",
    "# Predicting survival probability for the new patient\n",
    "survival_prob = cph.predict_survival_function(new_patient)\n",
    "\n",
    "# Printing out the predicted survival probabilities\n",
    "print(\"Predicted Survival Probability over Time:\")\n",
    "print(survival_prob)\n",
    "\n"
   ]
  },
  {
   "cell_type": "code",
   "execution_count": 4,
   "id": "9398a51b",
   "metadata": {},
   "outputs": [
    {
     "data": {
      "image/png": "[encoded data removed]",
      "text/plain": [
       "<Figure size 432x288 with 1 Axes>"
      ]
     },
     "metadata": {
      "needs_background": "light"
     },
     "output_type": "display_data"
    }
   ],
   "source": [
    "\n",
    "# Predicting survival probability for the new patient\n",
    "survival_prob = cph.predict_survival_function(new_patient)\n",
    "\n",
    "# Plotting survival curves for the new patient\n",
    "for i, (patient_id, survival_curve) in enumerate(survival_prob.items()):\n",
    "    plt.plot(survival_curve.index.values, survival_curve.values, label=f'Patient {i+1}')\n",
    "\n",
    "plt.xlabel('Time (years)')\n",
    "plt.ylabel('Survival Probability')\n",
    "plt.title('Survival Curves for New Patients')\n",
    "plt.legend()\n",
    "plt.grid(True)\n",
    "plt.show()\n"
   ]
  },
  {
   "cell_type": "markdown",
   "id": "862ad647",
   "metadata": {},
   "source": [
    "-We have a dataset containing information on breast cancer patients, including their age, tumor size, tumor grade, hormone receptor status, survival times, and event indicators.\n",
    "Each row in the dataset represents a patient, and the columns represent various characteristics and outcomes.\n",
    "\n",
    "-Problem Statement:\n",
    "We want to predict the survival probability for a new breast cancer patient based on their characteristics, such as age, tumor size, tumor grade, and hormone receptor status.\n",
    "\n",
    "-Fitting the Cox Proportional Hazards Model:\n",
    "We use the provided dataset to fit the Cox Proportional Hazards Model using the lifelines library in Python.\n",
    "We specify the duration column (Survival_Time) and the event column (Event) to indicate the survival times and event indicators.\n",
    "We include covariates such as age, tumor size, tumor grade, and hormone receptor status in the model.\n",
    "\n",
    "-Predicting Survival Probability:\n",
    "Once the model is fitted, we create a new dataset for the new patient with their characteristics (age, tumor size, tumor grade, and hormone receptor status).\n",
    "\n",
    "We use the predict_survival_function method of the fitted model to predict the survival probability for the new patient over a specified time period.\n",
    "This method returns the estimated survival probabilities for each time point.\n",
    "\n",
    "-Plotting Survival Curves:\n",
    "We plot the predicted survival curves for the new patient using matplotlib.\n",
    "Each curve represents the estimated survival probability over time for a specific patient.\n",
    "The x-axis represents time (in years), and the y-axis represents the survival probability.\n",
    "We add labels, title, legend, and grid to the plot for better interpretation.\n",
    "\n",
    "-Interpretation:\n",
    "The survival curves provide insights into the estimated survival probability for the new patient based on their characteristics.\n",
    "Clinicians can use this information to assess the patient's prognosis and make informed decisions regarding treatment and care.\n",
    "Overall, the example demonstrates how the Cox Proportional Hazards Model can be used to predict survival probabilities for individual cancer patients and how to visualize these predictions using survival curves."
   ]
  }
 ],
 "metadata": {
  "kernelspec": {
   "display_name": "Python 3 (ipykernel)",
   "language": "python",
   "name": "python3"
  },
  "language_info": {
   "codemirror_mode": {
    "name": "ipython",
    "version": 3
   },
   "file_extension": ".py",
   "mimetype": "text/x-python",
   "name": "python",
   "nbconvert_exporter": "python",
   "pygments_lexer": "ipython3",
   "version": "3.9.7"
  }
 },
 "nbformat": 4,
 "nbformat_minor": 5
}
